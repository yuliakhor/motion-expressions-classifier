{
 "cells": [
  {
   "cell_type": "markdown",
   "id": "a94429c1",
   "metadata": {},
   "source": [
    "**Project Description**\n",
    "\n",
    "The goal of this project is to use natural language processing (NLP) techniques to develop a classification model that can categorize motion expressions based on their morpho-syntactic makeup: 1) 'verb' or V (e.g. saltar-V 'to jump'); 2) 'verb + noun' or VN (e.g. saltar-V la valla-N 'to jump over the fence'), and 3) 'verb + preposition + noun' or VPN (e.g., saltar-V sobre-P la cama-N 'to jump on the bed'). The dataset includes oral (transcribed) samples produced by 31 English learners of Spanish who were asked to describe videos and pictures depicting motion events (e.g., Mr. Bean se dirige hacia las escaleras ‘Mr Bean moves towards the ladder’)."
   ]
  },
  {
   "cell_type": "markdown",
   "id": "ccd29fc9",
   "metadata": {},
   "source": [
    "Perform imports"
   ]
  },
  {
   "cell_type": "code",
   "execution_count": 3,
   "id": "3df1c6b0",
   "metadata": {},
   "outputs": [],
   "source": [
    "# Perform imports\n",
    "import pandas as pd\n",
    "import numpy as np\n",
    "import seaborn as sns \n",
    "import re\n",
    "from sklearn import preprocessing\n",
    "from sklearn.model_selection import train_test_split\n",
    "from sklearn.naive_bayes import MultinomialNB\n",
    "from sklearn.pipeline import Pipeline\n",
    "from sklearn.feature_extraction.text import CountVectorizer\n",
    "from sklearn import metrics"
   ]
  },
  {
   "cell_type": "markdown",
   "id": "f1d5b6c4",
   "metadata": {},
   "source": [
    "Load the dataset\n",
    "\n",
    "There are three columns in the dataset:\n",
    "\n",
    "Participant: participant number\n",
    "Speech sample: the actual transcribed description of a motion event\n",
    "Motion expression type: type of a motion expression (V: 'verb'; VN: 'verb + noun'; VPN: 'verb + preposition + noun'"
   ]
  },
  {
   "cell_type": "code",
   "execution_count": 4,
   "id": "f756ae8e",
   "metadata": {},
   "outputs": [
    {
     "data": {
      "text/html": [
       "<div>\n",
       "<style scoped>\n",
       "    .dataframe tbody tr th:only-of-type {\n",
       "        vertical-align: middle;\n",
       "    }\n",
       "\n",
       "    .dataframe tbody tr th {\n",
       "        vertical-align: top;\n",
       "    }\n",
       "\n",
       "    .dataframe thead th {\n",
       "        text-align: right;\n",
       "    }\n",
       "</style>\n",
       "<table border=\"1\" class=\"dataframe\">\n",
       "  <thead>\n",
       "    <tr style=\"text-align: right;\">\n",
       "      <th></th>\n",
       "      <th>participant</th>\n",
       "      <th>speech.sample</th>\n",
       "      <th>motion.expression.type</th>\n",
       "    </tr>\n",
       "  </thead>\n",
       "  <tbody>\n",
       "    <tr>\n",
       "      <th>0</th>\n",
       "      <td>120</td>\n",
       "      <td>y corre por [/] &amp;um por lo &amp;um</td>\n",
       "      <td>VPN</td>\n",
       "    </tr>\n",
       "    <tr>\n",
       "      <th>1</th>\n",
       "      <td>120</td>\n",
       "      <td>&amp;um Mr Bean trep(a) [/] trepa del coche &amp;um</td>\n",
       "      <td>VPN</td>\n",
       "    </tr>\n",
       "    <tr>\n",
       "      <th>2</th>\n",
       "      <td>120</td>\n",
       "      <td>&amp;um Mr Bean &amp;um sube el calle &amp;um pero &amp;um us(...</td>\n",
       "      <td>VN</td>\n",
       "    </tr>\n",
       "    <tr>\n",
       "      <th>3</th>\n",
       "      <td>120</td>\n",
       "      <td>&amp;um Mr Bean corre en el centro comercial &amp;um &amp;...</td>\n",
       "      <td>VPN</td>\n",
       "    </tr>\n",
       "    <tr>\n",
       "      <th>4</th>\n",
       "      <td>120</td>\n",
       "      <td>&amp;um Mr Bean corre en su habitación &amp;um con muc...</td>\n",
       "      <td>VPN</td>\n",
       "    </tr>\n",
       "    <tr>\n",
       "      <th>5</th>\n",
       "      <td>120</td>\n",
       "      <td>&amp;um Mr Bean pasé [: pasea] [*] en un campo en ...</td>\n",
       "      <td>VPN</td>\n",
       "    </tr>\n",
       "    <tr>\n",
       "      <th>6</th>\n",
       "      <td>120</td>\n",
       "      <td>&amp;um # &amp;um Mr Bean vuelve el trampolín por la agua</td>\n",
       "      <td>VN</td>\n",
       "    </tr>\n",
       "    <tr>\n",
       "      <th>7</th>\n",
       "      <td>120</td>\n",
       "      <td>&amp;um en un saco Mr Bean [^ eng: like] &amp;um pas(a...</td>\n",
       "      <td>VPN</td>\n",
       "    </tr>\n",
       "    <tr>\n",
       "      <th>8</th>\n",
       "      <td>120</td>\n",
       "      <td>&amp;um Mr Bean &amp;um caminé en un túnel [/] túnel &amp;...</td>\n",
       "      <td>VPN</td>\n",
       "    </tr>\n",
       "    <tr>\n",
       "      <th>9</th>\n",
       "      <td>120</td>\n",
       "      <td>&amp;um Mr Bean sube las escaleras &amp;um y está un h...</td>\n",
       "      <td>VN</td>\n",
       "    </tr>\n",
       "  </tbody>\n",
       "</table>\n",
       "</div>"
      ],
      "text/plain": [
       "   participant                                      speech.sample  \\\n",
       "0          120                     y corre por [/] &um por lo &um   \n",
       "1          120        &um Mr Bean trep(a) [/] trepa del coche &um   \n",
       "2          120  &um Mr Bean &um sube el calle &um pero &um us(...   \n",
       "3          120  &um Mr Bean corre en el centro comercial &um &...   \n",
       "4          120  &um Mr Bean corre en su habitación &um con muc...   \n",
       "5          120  &um Mr Bean pasé [: pasea] [*] en un campo en ...   \n",
       "6          120  &um # &um Mr Bean vuelve el trampolín por la agua   \n",
       "7          120  &um en un saco Mr Bean [^ eng: like] &um pas(a...   \n",
       "8          120  &um Mr Bean &um caminé en un túnel [/] túnel &...   \n",
       "9          120  &um Mr Bean sube las escaleras &um y está un h...   \n",
       "\n",
       "  motion.expression.type  \n",
       "0                    VPN  \n",
       "1                    VPN  \n",
       "2                     VN  \n",
       "3                    VPN  \n",
       "4                    VPN  \n",
       "5                    VPN  \n",
       "6                     VN  \n",
       "7                    VPN  \n",
       "8                    VPN  \n",
       "9                     VN  "
      ]
     },
     "execution_count": 4,
     "metadata": {},
     "output_type": "execute_result"
    }
   ],
   "source": [
    "df = pd.read_csv('/Users/yulia/Documents/python/motion_constr_project/motion_expressions_corpus.csv')\n",
    "df.head(10)"
   ]
  },
  {
   "cell_type": "code",
   "execution_count": null,
   "id": "7cd3e639",
   "metadata": {},
   "outputs": [],
   "source": []
  },
  {
   "cell_type": "code",
   "execution_count": 5,
   "id": "62f6436d",
   "metadata": {},
   "outputs": [
    {
     "name": "stdout",
     "output_type": "stream",
     "text": [
      "The dataset has 4314 rows and 3 columns\n"
     ]
    }
   ],
   "source": [
    "def data_shape(df):\n",
    "    df_shape = df.shape\n",
    "    print(\"The dataset has\", df_shape[0], \"rows and\", df_shape[1], \"columns\")\n",
    "\n",
    "data_shape(df)"
   ]
  },
  {
   "cell_type": "markdown",
   "id": "f51c6c91",
   "metadata": {},
   "source": [
    "Check for the existence of missing values"
   ]
  },
  {
   "cell_type": "code",
   "execution_count": 63,
   "id": "6197296c",
   "metadata": {},
   "outputs": [
    {
     "data": {
      "text/plain": [
       "participant               0\n",
       "speech_sample             0\n",
       "motion_expression_type    0\n",
       "dtype: int64"
      ]
     },
     "execution_count": 63,
     "metadata": {},
     "output_type": "execute_result"
    }
   ],
   "source": [
    "df.isnull().sum()"
   ]
  },
  {
   "cell_type": "markdown",
   "id": "ba115545",
   "metadata": {},
   "source": [
    "Data preparation\n",
    "\n",
    "Converting all characters to lowercase and removing non-word characters in the 'speech sample'."
   ]
  },
  {
   "cell_type": "code",
   "execution_count": 6,
   "id": "7ba26a3f",
   "metadata": {},
   "outputs": [
    {
     "data": {
      "text/html": [
       "<div>\n",
       "<style scoped>\n",
       "    .dataframe tbody tr th:only-of-type {\n",
       "        vertical-align: middle;\n",
       "    }\n",
       "\n",
       "    .dataframe tbody tr th {\n",
       "        vertical-align: top;\n",
       "    }\n",
       "\n",
       "    .dataframe thead th {\n",
       "        text-align: right;\n",
       "    }\n",
       "</style>\n",
       "<table border=\"1\" class=\"dataframe\">\n",
       "  <thead>\n",
       "    <tr style=\"text-align: right;\">\n",
       "      <th></th>\n",
       "      <th>participant</th>\n",
       "      <th>speech.sample</th>\n",
       "      <th>motion.expression.type</th>\n",
       "    </tr>\n",
       "  </thead>\n",
       "  <tbody>\n",
       "    <tr>\n",
       "      <th>0</th>\n",
       "      <td>120</td>\n",
       "      <td>y corre por um por lo um</td>\n",
       "      <td>VPN</td>\n",
       "    </tr>\n",
       "    <tr>\n",
       "      <th>1</th>\n",
       "      <td>120</td>\n",
       "      <td>um mr bean trep a trepa del coche um</td>\n",
       "      <td>VPN</td>\n",
       "    </tr>\n",
       "    <tr>\n",
       "      <th>2</th>\n",
       "      <td>120</td>\n",
       "      <td>um mr bean um sube el calle um pero um us a u...</td>\n",
       "      <td>VN</td>\n",
       "    </tr>\n",
       "    <tr>\n",
       "      <th>3</th>\n",
       "      <td>120</td>\n",
       "      <td>um mr bean corre en el centro comercial um um...</td>\n",
       "      <td>VPN</td>\n",
       "    </tr>\n",
       "    <tr>\n",
       "      <th>4</th>\n",
       "      <td>120</td>\n",
       "      <td>um mr bean corre en su habitación um con much...</td>\n",
       "      <td>VPN</td>\n",
       "    </tr>\n",
       "    <tr>\n",
       "      <th>5</th>\n",
       "      <td>120</td>\n",
       "      <td>um mr bean pasé pasea en un campo en un calle...</td>\n",
       "      <td>VPN</td>\n",
       "    </tr>\n",
       "    <tr>\n",
       "      <th>6</th>\n",
       "      <td>120</td>\n",
       "      <td>um um mr bean vuelve el trampolín por la agua</td>\n",
       "      <td>VN</td>\n",
       "    </tr>\n",
       "    <tr>\n",
       "      <th>7</th>\n",
       "      <td>120</td>\n",
       "      <td>um en un saco mr bean eng like um pas a cami ...</td>\n",
       "      <td>VPN</td>\n",
       "    </tr>\n",
       "    <tr>\n",
       "      <th>8</th>\n",
       "      <td>120</td>\n",
       "      <td>um mr bean um caminé en un túnel túnel um y</td>\n",
       "      <td>VPN</td>\n",
       "    </tr>\n",
       "    <tr>\n",
       "      <th>9</th>\n",
       "      <td>120</td>\n",
       "      <td>um mr bean sube las escaleras um y está un ho...</td>\n",
       "      <td>VN</td>\n",
       "    </tr>\n",
       "  </tbody>\n",
       "</table>\n",
       "</div>"
      ],
      "text/plain": [
       "   participant                                      speech.sample  \\\n",
       "0          120                           y corre por um por lo um   \n",
       "1          120               um mr bean trep a trepa del coche um   \n",
       "2          120   um mr bean um sube el calle um pero um us a u...   \n",
       "3          120   um mr bean corre en el centro comercial um um...   \n",
       "4          120   um mr bean corre en su habitación um con much...   \n",
       "5          120   um mr bean pasé pasea en un campo en un calle...   \n",
       "6          120      um um mr bean vuelve el trampolín por la agua   \n",
       "7          120   um en un saco mr bean eng like um pas a cami ...   \n",
       "8          120       um mr bean um caminé en un túnel túnel um y    \n",
       "9          120   um mr bean sube las escaleras um y está un ho...   \n",
       "\n",
       "  motion.expression.type  \n",
       "0                    VPN  \n",
       "1                    VPN  \n",
       "2                     VN  \n",
       "3                    VPN  \n",
       "4                    VPN  \n",
       "5                    VPN  \n",
       "6                     VN  \n",
       "7                    VPN  \n",
       "8                    VPN  \n",
       "9                     VN  "
      ]
     },
     "execution_count": 6,
     "metadata": {},
     "output_type": "execute_result"
    }
   ],
   "source": [
    "df['speech.sample'] = [text.lower() for text in df['speech.sample']]\n",
    "\n",
    "df['speech.sample'] = [re.sub(r'\\W+', ' ', text) for text in df['speech.sample']]\n",
    "\n",
    "df.head(10)"
   ]
  },
  {
   "cell_type": "code",
   "execution_count": null,
   "id": "6d76b7a3",
   "metadata": {},
   "outputs": [],
   "source": []
  },
  {
   "cell_type": "markdown",
   "id": "9039e325",
   "metadata": {},
   "source": [
    "Data exploration"
   ]
  },
  {
   "cell_type": "code",
   "execution_count": 7,
   "id": "b37e20ea",
   "metadata": {},
   "outputs": [
    {
     "name": "stdout",
     "output_type": "stream",
     "text": [
      "AxesSubplot(0.125,0.125;0.775x0.755)\n"
     ]
    },
    {
     "data": {
      "image/png": "[encoded data removed]",
      "text/plain": [
       "<Figure size 432x288 with 1 Axes>"
      ]
     },
     "metadata": {},
     "output_type": "display_data"
    }
   ],
   "source": [
    "# Using pandas to calculate the frequency of each type of motion expressions\n",
    "\n",
    "def frequency_of_motion_expression_types(df):\n",
    "    return df.groupby('motion.expression.type', as_index = False).count()[['speech.sample','motion.expression.type']]\n",
    "\n",
    "# Using the seaborn library to visualize the data\n",
    "def barplot_constr_types(df):\n",
    "    df_subset = frequency_of_motion_expression_types(df)\n",
    "    sns.set_theme(style=\"ticks\")\n",
    "    sns.set_palette(\"Pastel2\")\n",
    "    return sns.barplot(x = \"motion.expression.type\", y = \"speech.sample\", data = df_subset)\n",
    "\n",
    "print(barplot_constr_types(df))\n",
    "\n",
    "# 'VPN' ( n = 2669) is the most frequently used motion expression, followed by 'V' (n=1054) and 'VN' (n=591)."
   ]
  },
  {
   "cell_type": "code",
   "execution_count": 8,
   "id": "87d6d996",
   "metadata": {},
   "outputs": [
    {
     "data": {
      "text/plain": [
       "VPN    2669\n",
       "V      1054\n",
       "VN      591\n",
       "Name: motion.expression.type, dtype: int64"
      ]
     },
     "execution_count": 8,
     "metadata": {},
     "output_type": "execute_result"
    }
   ],
   "source": [
    "df['motion.expression.type'].value_counts()"
   ]
  },
  {
   "cell_type": "markdown",
   "id": "62307dd0",
   "metadata": {},
   "source": [
    "Preprocessing"
   ]
  },
  {
   "cell_type": "code",
   "execution_count": 9,
   "id": "18e3dd87",
   "metadata": {},
   "outputs": [],
   "source": [
    "# Splitting the data into training and testing datasets\n",
    "\n",
    "X_train, X_test, y_train, y_test = train_test_split(df['speech.sample'], df['motion.expression.type'], test_size=0.33, random_state=42)\n"
   ]
  },
  {
   "cell_type": "code",
   "execution_count": null,
   "id": "3e1e85cf",
   "metadata": {},
   "outputs": [],
   "source": []
  },
  {
   "cell_type": "code",
   "execution_count": 10,
   "id": "5326ff19",
   "metadata": {},
   "outputs": [
    {
     "name": "stdout",
     "output_type": "stream",
     "text": [
      "count                                   2890\n",
      "unique                                  2766\n",
      "top       mr bean está caminando en el andén\n",
      "freq                                       3\n",
      "Name: speech.sample, dtype: object\n",
      "count                                                  1424\n",
      "unique                                                 1388\n",
      "top        um la dent ista la dentista está en el piso p...\n",
      "freq                                                      3\n",
      "Name: speech.sample, dtype: object\n",
      "count     2890\n",
      "unique       3\n",
      "top        VPN\n",
      "freq      1789\n",
      "Name: motion.expression.type, dtype: object\n",
      "count     1424\n",
      "unique       3\n",
      "top        VPN\n",
      "freq       880\n",
      "Name: motion.expression.type, dtype: object\n"
     ]
    }
   ],
   "source": [
    "def explore_dataset(dataset):\n",
    "    return dataset.describe()\n",
    "\n",
    "print(explore_dataset(X_train))\n",
    "print(explore_dataset(X_test))\n",
    "print(explore_dataset(y_train))\n",
    "print(explore_dataset(y_test))"
   ]
  },
  {
   "cell_type": "code",
   "execution_count": null,
   "id": "9eb5757e",
   "metadata": {},
   "outputs": [],
   "source": []
  },
  {
   "cell_type": "code",
   "execution_count": 11,
   "id": "c9128ad6",
   "metadata": {},
   "outputs": [],
   "source": [
    "# Creating a list of stopwords to add it to CountVectorizer. CountVectorizer will be used to split the dataset into individual words. \n",
    "# There are some words in the transcribed speech samples that may influence the classification of motion expressions. \n",
    "# I'm going to create my own list of stopwords to remove them from the text.\n",
    "\n",
    "stopwords = ['um', 'mr', 'eng', '1']\n"
   ]
  },
  {
   "cell_type": "code",
   "execution_count": null,
   "id": "cf058c33",
   "metadata": {},
   "outputs": [],
   "source": []
  },
  {
   "cell_type": "code",
   "execution_count": 12,
   "id": "9ee038c7",
   "metadata": {},
   "outputs": [],
   "source": [
    "# Building a pipeline to vectorize the data, then train and fit a model\n",
    "# I will be using a Multinomial Naive Bayes classifier because it is suitable for classification with dicrete type (e.g., frequency word counts).\n",
    "\n",
    "motion_expr_clf_nb = Pipeline([('tfidf', CountVectorizer(stop_words=stopwords)),\n",
    "                     ('clf', MultinomialNB()),\n",
    "])"
   ]
  },
  {
   "cell_type": "code",
   "execution_count": null,
   "id": "735babf8",
   "metadata": {},
   "outputs": [],
   "source": []
  },
  {
   "cell_type": "code",
   "execution_count": 13,
   "id": "57d15658",
   "metadata": {},
   "outputs": [
    {
     "data": {
      "text/html": [
       "<style>#sk-container-id-1 {color: black;background-color: white;}#sk-container-id-1 pre{padding: 0;}#sk-container-id-1 div.sk-toggleable {background-color: white;}#sk-container-id-1 label.sk-toggleable__label {cursor: pointer;display: block;width: 100%;margin-bottom: 0;padding: 0.3em;box-sizing: border-box;text-align: center;}#sk-container-id-1 label.sk-toggleable__label-arrow:before {content: \"▸\";float: left;margin-right: 0.25em;color: #696969;}#sk-container-id-1 label.sk-toggleable__label-arrow:hover:before {color: black;}#sk-container-id-1 div.sk-estimator:hover label.sk-toggleable__label-arrow:before {color: black;}#sk-container-id-1 div.sk-toggleable__content {max-height: 0;max-width: 0;overflow: hidden;text-align: left;background-color: #f0f8ff;}#sk-container-id-1 div.sk-toggleable__content pre {margin: 0.2em;color: black;border-radius: 0.25em;background-color: #f0f8ff;}#sk-container-id-1 input.sk-toggleable__control:checked~div.sk-toggleable__content {max-height: 200px;max-width: 100%;overflow: auto;}#sk-container-id-1 input.sk-toggleable__control:checked~label.sk-toggleable__label-arrow:before {content: \"▾\";}#sk-container-id-1 div.sk-estimator input.sk-toggleable__control:checked~label.sk-toggleable__label {background-color: #d4ebff;}#sk-container-id-1 div.sk-label input.sk-toggleable__control:checked~label.sk-toggleable__label {background-color: #d4ebff;}#sk-container-id-1 input.sk-hidden--visually {border: 0;clip: rect(1px 1px 1px 1px);clip: rect(1px, 1px, 1px, 1px);height: 1px;margin: -1px;overflow: hidden;padding: 0;position: absolute;width: 1px;}#sk-container-id-1 div.sk-estimator {font-family: monospace;background-color: #f0f8ff;border: 1px dotted black;border-radius: 0.25em;box-sizing: border-box;margin-bottom: 0.5em;}#sk-container-id-1 div.sk-estimator:hover {background-color: #d4ebff;}#sk-container-id-1 div.sk-parallel-item::after {content: \"\";width: 100%;border-bottom: 1px solid gray;flex-grow: 1;}#sk-container-id-1 div.sk-label:hover label.sk-toggleable__label {background-color: #d4ebff;}#sk-container-id-1 div.sk-serial::before {content: \"\";position: absolute;border-left: 1px solid gray;box-sizing: border-box;top: 0;bottom: 0;left: 50%;z-index: 0;}#sk-container-id-1 div.sk-serial {display: flex;flex-direction: column;align-items: center;background-color: white;padding-right: 0.2em;padding-left: 0.2em;position: relative;}#sk-container-id-1 div.sk-item {position: relative;z-index: 1;}#sk-container-id-1 div.sk-parallel {display: flex;align-items: stretch;justify-content: center;background-color: white;position: relative;}#sk-container-id-1 div.sk-item::before, #sk-container-id-1 div.sk-parallel-item::before {content: \"\";position: absolute;border-left: 1px solid gray;box-sizing: border-box;top: 0;bottom: 0;left: 50%;z-index: -1;}#sk-container-id-1 div.sk-parallel-item {display: flex;flex-direction: column;z-index: 1;position: relative;background-color: white;}#sk-container-id-1 div.sk-parallel-item:first-child::after {align-self: flex-end;width: 50%;}#sk-container-id-1 div.sk-parallel-item:last-child::after {align-self: flex-start;width: 50%;}#sk-container-id-1 div.sk-parallel-item:only-child::after {width: 0;}#sk-container-id-1 div.sk-dashed-wrapped {border: 1px dashed gray;margin: 0 0.4em 0.5em 0.4em;box-sizing: border-box;padding-bottom: 0.4em;background-color: white;}#sk-container-id-1 div.sk-label label {font-family: monospace;font-weight: bold;display: inline-block;line-height: 1.2em;}#sk-container-id-1 div.sk-label-container {text-align: center;}#sk-container-id-1 div.sk-container {/* jupyter's `normalize.less` sets `[hidden] { display: none; }` but bootstrap.min.css set `[hidden] { display: none !important; }` so we also need the `!important` here to be able to override the default hidden behavior on the sphinx rendered scikit-learn.org. See: https://github.com/scikit-learn/scikit-learn/issues/21755 */display: inline-block !important;position: relative;}#sk-container-id-1 div.sk-text-repr-fallback {display: none;}</style><div id=\"sk-container-id-1\" class=\"sk-top-container\"><div class=\"sk-text-repr-fallback\"><pre>Pipeline(steps=[(&#x27;tfidf&#x27;, CountVectorizer(stop_words=[&#x27;um&#x27;, &#x27;mr&#x27;, &#x27;eng&#x27;, &#x27;1&#x27;])),\n",
       "                (&#x27;clf&#x27;, MultinomialNB())])</pre><b>In a Jupyter environment, please rerun this cell to show the HTML representation or trust the notebook. <br />On GitHub, the HTML representation is unable to render, please try loading this page with nbviewer.org.</b></div><div class=\"sk-container\" hidden><div class=\"sk-item sk-dashed-wrapped\"><div class=\"sk-label-container\"><div class=\"sk-label sk-toggleable\"><input class=\"sk-toggleable__control sk-hidden--visually\" id=\"sk-estimator-id-1\" type=\"checkbox\" ><label for=\"sk-estimator-id-1\" class=\"sk-toggleable__label sk-toggleable__label-arrow\">Pipeline</label><div class=\"sk-toggleable__content\"><pre>Pipeline(steps=[(&#x27;tfidf&#x27;, CountVectorizer(stop_words=[&#x27;um&#x27;, &#x27;mr&#x27;, &#x27;eng&#x27;, &#x27;1&#x27;])),\n",
       "                (&#x27;clf&#x27;, MultinomialNB())])</pre></div></div></div><div class=\"sk-serial\"><div class=\"sk-item\"><div class=\"sk-estimator sk-toggleable\"><input class=\"sk-toggleable__control sk-hidden--visually\" id=\"sk-estimator-id-2\" type=\"checkbox\" ><label for=\"sk-estimator-id-2\" class=\"sk-toggleable__label sk-toggleable__label-arrow\">CountVectorizer</label><div class=\"sk-toggleable__content\"><pre>CountVectorizer(stop_words=[&#x27;um&#x27;, &#x27;mr&#x27;, &#x27;eng&#x27;, &#x27;1&#x27;])</pre></div></div></div><div class=\"sk-item\"><div class=\"sk-estimator sk-toggleable\"><input class=\"sk-toggleable__control sk-hidden--visually\" id=\"sk-estimator-id-3\" type=\"checkbox\" ><label for=\"sk-estimator-id-3\" class=\"sk-toggleable__label sk-toggleable__label-arrow\">MultinomialNB</label><div class=\"sk-toggleable__content\"><pre>MultinomialNB()</pre></div></div></div></div></div></div></div>"
      ],
      "text/plain": [
       "Pipeline(steps=[('tfidf', CountVectorizer(stop_words=['um', 'mr', 'eng', '1'])),\n",
       "                ('clf', MultinomialNB())])"
      ]
     },
     "execution_count": 13,
     "metadata": {},
     "output_type": "execute_result"
    }
   ],
   "source": [
    "#Feeding the training data through the first pipeline\n",
    "motion_expr_clf_nb.fit(X_train, y_train)"
   ]
  },
  {
   "cell_type": "code",
   "execution_count": null,
   "id": "d4727378",
   "metadata": {},
   "outputs": [],
   "source": []
  },
  {
   "cell_type": "markdown",
   "id": "d0d3318c",
   "metadata": {},
   "source": [
    "Run predictions and analyze the results"
   ]
  },
  {
   "cell_type": "code",
   "execution_count": 15,
   "id": "a792772b",
   "metadata": {},
   "outputs": [],
   "source": [
    "# Form a prediction (testing) set\n",
    "# After I have fitted the model, I can use it on the testing dataset to predict the types of motion expressions (i.e., 'V', 'VN', 'VPN'). \n",
    "predictions = motion_expr_clf_nb.predict(X_test)"
   ]
  },
  {
   "cell_type": "code",
   "execution_count": 16,
   "id": "a068fef5",
   "metadata": {},
   "outputs": [
    {
     "name": "stdout",
     "output_type": "stream",
     "text": [
      "[[138  26 201]\n",
      " [ 11  76  92]\n",
      " [ 41  39 800]]\n"
     ]
    }
   ],
   "source": [
    "# Evaluating the model\n",
    "### Report the confusion matrix\n",
    "print(metrics.confusion_matrix(y_test,predictions))"
   ]
  },
  {
   "cell_type": "code",
   "execution_count": null,
   "id": "a5590c93",
   "metadata": {},
   "outputs": [],
   "source": []
  },
  {
   "cell_type": "code",
   "execution_count": 17,
   "id": "a87c055e",
   "metadata": {},
   "outputs": [
    {
     "data": {
      "text/html": [
       "<div>\n",
       "<style scoped>\n",
       "    .dataframe tbody tr th:only-of-type {\n",
       "        vertical-align: middle;\n",
       "    }\n",
       "\n",
       "    .dataframe tbody tr th {\n",
       "        vertical-align: top;\n",
       "    }\n",
       "\n",
       "    .dataframe thead th {\n",
       "        text-align: right;\n",
       "    }\n",
       "</style>\n",
       "<table border=\"1\" class=\"dataframe\">\n",
       "  <thead>\n",
       "    <tr style=\"text-align: right;\">\n",
       "      <th></th>\n",
       "      <th>V</th>\n",
       "      <th>VN</th>\n",
       "      <th>VPN</th>\n",
       "    </tr>\n",
       "  </thead>\n",
       "  <tbody>\n",
       "    <tr>\n",
       "      <th>V</th>\n",
       "      <td>138</td>\n",
       "      <td>26</td>\n",
       "      <td>201</td>\n",
       "    </tr>\n",
       "    <tr>\n",
       "      <th>VN</th>\n",
       "      <td>11</td>\n",
       "      <td>76</td>\n",
       "      <td>92</td>\n",
       "    </tr>\n",
       "    <tr>\n",
       "      <th>VPN</th>\n",
       "      <td>41</td>\n",
       "      <td>39</td>\n",
       "      <td>800</td>\n",
       "    </tr>\n",
       "  </tbody>\n",
       "</table>\n",
       "</div>"
      ],
      "text/plain": [
       "       V  VN  VPN\n",
       "V    138  26  201\n",
       "VN    11  76   92\n",
       "VPN   41  39  800"
      ]
     },
     "execution_count": 17,
     "metadata": {},
     "output_type": "execute_result"
    }
   ],
   "source": [
    "#Adding labels to the confusion matrix to make less confusing\n",
    "df = pd.DataFrame(metrics.confusion_matrix(y_test,predictions), index=['V','VN', 'VPN'], \n",
    "                  columns=['V','VN', 'VPN'])\n",
    "df\n",
    "\n",
    "# More 'V' motion expressions were classified as 'VPN' (n=201) and 'VN' (n=26) than correctly identified as 'V' (n=138). \n",
    "# Similarly, there were more 'VN' expressions incorrectly classified as 'VPN' (n=92) and 'V' (n=11) than correctly identified as 'VN' (n=76).\n",
    "# In contast, a relatively small number of 'VPN' expressions were confused as 'V' (n=41) and 'VN' (n=39).\n"
   ]
  },
  {
   "cell_type": "code",
   "execution_count": null,
   "id": "729632c8",
   "metadata": {},
   "outputs": [],
   "source": []
  },
  {
   "cell_type": "code",
   "execution_count": 19,
   "id": "b801a251",
   "metadata": {},
   "outputs": [
    {
     "name": "stdout",
     "output_type": "stream",
     "text": [
      "              precision    recall  f1-score   support\n",
      "\n",
      "           V       0.73      0.38      0.50       365\n",
      "          VN       0.54      0.42      0.48       179\n",
      "         VPN       0.73      0.91      0.81       880\n",
      "\n",
      "    accuracy                           0.71      1424\n",
      "   macro avg       0.67      0.57      0.59      1424\n",
      "weighted avg       0.71      0.71      0.69      1424\n",
      "\n"
     ]
    }
   ],
   "source": [
    "# Print a classification report to evaluate the model using accuracy, precision, and recall\n",
    "print(metrics.classification_report(y_test,predictions))"
   ]
  },
  {
   "cell_type": "code",
   "execution_count": 20,
   "id": "a872dd17",
   "metadata": {},
   "outputs": [
    {
     "name": "stdout",
     "output_type": "stream",
     "text": [
      "Accuracy: 0.7120786516853933\n",
      "Precision: [0.72631579 0.53900709 0.73193047]\n",
      "Recall: [0.37808219 0.42458101 0.90909091]\n"
     ]
    }
   ],
   "source": [
    "print(\"Accuracy:\",metrics.accuracy_score(y_test,predictions))\n",
    "print(\"Precision:\", metrics.precision_score(y_test,predictions, average = None))\n",
    "print(\"Recall:\", metrics.recall_score(y_test,predictions, average = None))"
   ]
  },
  {
   "cell_type": "code",
   "execution_count": null,
   "id": "f5362d27",
   "metadata": {},
   "outputs": [],
   "source": []
  },
  {
   "cell_type": "code",
   "execution_count": 21,
   "id": "77060772",
   "metadata": {},
   "outputs": [
    {
     "name": "stdout",
     "output_type": "stream",
     "text": [
      "0.7120786516853933\n"
     ]
    }
   ],
   "source": [
    "# Print the overall accuracy\n",
    "print(metrics.accuracy_score(y_test,predictions))"
   ]
  },
  {
   "cell_type": "markdown",
   "id": "b8dd97fb",
   "metadata": {},
   "source": [
    "The accuracy of our model is about 71%, which is not too high. This could be explained by a relatively small dataset. In addition, this could be due to the nature of the dataset. The model was trained on the speech samples produced by Spanish language learners who do not always use target-like (i.e., grammatically correct) motion expressions."
   ]
  }
 ],
 "metadata": {
  "kernelspec": {
   "display_name": "Python 3 (ipykernel)",
   "language": "python",
   "name": "python3"
  },
  "language_info": {
   "codemirror_mode": {
    "name": "ipython",
    "version": 3
   },
   "file_extension": ".py",
   "mimetype": "text/x-python",
   "name": "python",
   "nbconvert_exporter": "python",
   "pygments_lexer": "ipython3",
   "version": "3.9.7"
  }
 },
 "nbformat": 4,
 "nbformat_minor": 5
}
